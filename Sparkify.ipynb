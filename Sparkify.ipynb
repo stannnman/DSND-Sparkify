{
 "cells": [
  {
   "cell_type": "markdown",
   "metadata": {},
   "source": [
    "# Sparkify Project Workspace\n",
    "This workspace contains a tiny subset (128MB) of the full dataset available (12GB). Feel free to use this workspace to build your project, or to explore a smaller subset with Spark before deploying your cluster on the cloud. Instructions for setting up your Spark cluster is included in the last lesson of the Extracurricular Spark Course content.\n",
    "\n",
    "You can follow the steps below to guide your data analysis and model building portion of this project."
   ]
  },
  {
   "cell_type": "code",
   "execution_count": 74,
   "metadata": {},
   "outputs": [],
   "source": [
    "# Import libraries\n",
    "\n",
    "from pyspark.sql import SparkSession, Window\n",
    "from pyspark.sql.types import IntegerType\n",
    "from pyspark.sql.functions import udf, first, last, col, countDistinct, format_number\n",
    "from pyspark.ml.feature import MinMaxScaler ,VectorAssembler\n",
    "from pyspark.ml.evaluation import MulticlassClassificationEvaluator\n",
    "from pyspark.ml.classification import LogisticRegression, RandomForestClassifier, GBTClassifier\n",
    "from pyspark.ml.tuning import CrossValidator, ParamGridBuilder\n",
    "from pyspark.ml import Pipeline\n",
    "from pyspark import PickleSerializer\n",
    "\n",
    "import matplotlib.pyplot as plt\n",
    "import seaborn as sns\n",
    "\n",
    "%matplotlib inline"
   ]
  },
  {
   "cell_type": "code",
   "execution_count": 2,
   "metadata": {},
   "outputs": [],
   "source": [
    "# Create a Spark session\n",
    "\n",
    "spark = SparkSession \\\n",
    "    .builder \\\n",
    "    .appName(\"Sparkify Project\") \\\n",
    "    .getOrCreate()"
   ]
  },
  {
   "cell_type": "markdown",
   "metadata": {},
   "source": [
    "# Load and Clean Dataset\n",
    "In this workspace, the mini-dataset file is `mini_sparkify_event_data.json`. Load and clean the dataset, checking for invalid or missing data - for example, records without userids or sessionids. "
   ]
  },
  {
   "cell_type": "code",
   "execution_count": 3,
   "metadata": {},
   "outputs": [],
   "source": [
    "# Load events data from json file\n",
    "\n",
    "events_df = spark.read.json(\"mini_sparkify_event_data.json\")"
   ]
  },
  {
   "cell_type": "code",
   "execution_count": 4,
   "metadata": {},
   "outputs": [
    {
     "name": "stdout",
     "output_type": "stream",
     "text": [
      "+----------------+---------+---------+------+-------------+--------+---------+-----+--------------------+------+--------+-------------+---------+--------------------+------+-------------+--------------------+------+\n",
      "|          artist|     auth|firstName|gender|itemInSession|lastName|   length|level|            location|method|    page| registration|sessionId|                song|status|           ts|           userAgent|userId|\n",
      "+----------------+---------+---------+------+-------------+--------+---------+-----+--------------------+------+--------+-------------+---------+--------------------+------+-------------+--------------------+------+\n",
      "|  Martha Tilston|Logged In|    Colin|     M|           50| Freeman|277.89016| paid|     Bakersfield, CA|   PUT|NextSong|1538173362000|       29|           Rockpools|   200|1538352117000|Mozilla/5.0 (Wind...|    30|\n",
      "|Five Iron Frenzy|Logged In|    Micah|     M|           79|    Long|236.09424| free|Boston-Cambridge-...|   PUT|NextSong|1538331630000|        8|              Canada|   200|1538352180000|\"Mozilla/5.0 (Win...|     9|\n",
      "|    Adam Lambert|Logged In|    Colin|     M|           51| Freeman| 282.8273| paid|     Bakersfield, CA|   PUT|NextSong|1538173362000|       29|   Time For Miracles|   200|1538352394000|Mozilla/5.0 (Wind...|    30|\n",
      "|          Enigma|Logged In|    Micah|     M|           80|    Long|262.71302| free|Boston-Cambridge-...|   PUT|NextSong|1538331630000|        8|Knocking On Forbi...|   200|1538352416000|\"Mozilla/5.0 (Win...|     9|\n",
      "|       Daft Punk|Logged In|    Colin|     M|           52| Freeman|223.60771| paid|     Bakersfield, CA|   PUT|NextSong|1538173362000|       29|Harder Better Fas...|   200|1538352676000|Mozilla/5.0 (Wind...|    30|\n",
      "+----------------+---------+---------+------+-------------+--------+---------+-----+--------------------+------+--------+-------------+---------+--------------------+------+-------------+--------------------+------+\n",
      "only showing top 5 rows\n",
      "\n"
     ]
    }
   ],
   "source": [
    "# View some sample event records\n",
    "\n",
    "events_df.show(5)"
   ]
  },
  {
   "cell_type": "code",
   "execution_count": 5,
   "metadata": {},
   "outputs": [
    {
     "name": "stdout",
     "output_type": "stream",
     "text": [
      "root\n",
      " |-- artist: string (nullable = true)\n",
      " |-- auth: string (nullable = true)\n",
      " |-- firstName: string (nullable = true)\n",
      " |-- gender: string (nullable = true)\n",
      " |-- itemInSession: long (nullable = true)\n",
      " |-- lastName: string (nullable = true)\n",
      " |-- length: double (nullable = true)\n",
      " |-- level: string (nullable = true)\n",
      " |-- location: string (nullable = true)\n",
      " |-- method: string (nullable = true)\n",
      " |-- page: string (nullable = true)\n",
      " |-- registration: long (nullable = true)\n",
      " |-- sessionId: long (nullable = true)\n",
      " |-- song: string (nullable = true)\n",
      " |-- status: long (nullable = true)\n",
      " |-- ts: long (nullable = true)\n",
      " |-- userAgent: string (nullable = true)\n",
      " |-- userId: string (nullable = true)\n",
      "\n"
     ]
    }
   ],
   "source": [
    "# View list of columns available\n",
    "\n",
    "events_df.printSchema()"
   ]
  },
  {
   "cell_type": "code",
   "execution_count": 6,
   "metadata": {},
   "outputs": [
    {
     "data": {
      "text/plain": [
       "286500"
      ]
     },
     "execution_count": 6,
     "metadata": {},
     "output_type": "execute_result"
    }
   ],
   "source": [
    "# How many records in our sample\n",
    "\n",
    "events_df.count()"
   ]
  },
  {
   "cell_type": "code",
   "execution_count": 7,
   "metadata": {},
   "outputs": [
    {
     "name": "stdout",
     "output_type": "stream",
     "text": [
      "+--------------------+\n",
      "|                page|\n",
      "+--------------------+\n",
      "|               About|\n",
      "|          Add Friend|\n",
      "|     Add to Playlist|\n",
      "|              Cancel|\n",
      "|Cancellation Conf...|\n",
      "|           Downgrade|\n",
      "|               Error|\n",
      "|                Help|\n",
      "|                Home|\n",
      "|               Login|\n",
      "|              Logout|\n",
      "|            NextSong|\n",
      "|            Register|\n",
      "|         Roll Advert|\n",
      "|       Save Settings|\n",
      "|            Settings|\n",
      "|    Submit Downgrade|\n",
      "| Submit Registration|\n",
      "|      Submit Upgrade|\n",
      "|         Thumbs Down|\n",
      "|           Thumbs Up|\n",
      "|             Upgrade|\n",
      "+--------------------+\n",
      "\n"
     ]
    }
   ],
   "source": [
    "# View list of event page values\n",
    "\n",
    "events_df.select(\"page\").dropDuplicates().sort(\"page\").show(100)"
   ]
  },
  {
   "cell_type": "code",
   "execution_count": 8,
   "metadata": {},
   "outputs": [
    {
     "name": "stdout",
     "output_type": "stream",
     "text": [
      "+--------------------+-----+\n",
      "|                page|count|\n",
      "+--------------------+-----+\n",
      "| Submit Registration|    5|\n",
      "|            Register|   18|\n",
      "|              Cancel|   52|\n",
      "|Cancellation Conf...|   52|\n",
      "|    Submit Downgrade|   63|\n",
      "|      Submit Upgrade|  159|\n",
      "|               Error|  258|\n",
      "|       Save Settings|  310|\n",
      "|             Upgrade|  499|\n",
      "|               About|  924|\n",
      "|            Settings| 1514|\n",
      "|                Help| 1726|\n",
      "|           Downgrade| 2055|\n",
      "|         Thumbs Down| 2546|\n",
      "|              Logout| 3226|\n",
      "|               Login| 3241|\n",
      "|         Roll Advert| 3933|\n",
      "|          Add Friend| 4277|\n",
      "|     Add to Playlist| 6526|\n",
      "|           Thumbs Up|12551|\n",
      "+--------------------+-----+\n",
      "only showing top 20 rows\n",
      "\n"
     ]
    }
   ],
   "source": [
    "# View list of event page values by count\n",
    "\n",
    "events_df.groupBy('page').count().orderBy('count').show()"
   ]
  },
  {
   "cell_type": "code",
   "execution_count": 9,
   "metadata": {},
   "outputs": [
    {
     "data": {
      "text/plain": [
       "286500"
      ]
     },
     "execution_count": 9,
     "metadata": {},
     "output_type": "execute_result"
    }
   ],
   "source": [
    "# Check if any records have userId or sessionId value of null\n",
    "\n",
    "events_df.dropna(how = \"any\", subset = [\"userId\", \"sessionId\"]).count()"
   ]
  },
  {
   "cell_type": "markdown",
   "metadata": {},
   "source": [
    "---> This is the same as the total record count, therefore we note there are no rows where userId or sessionId is null."
   ]
  },
  {
   "cell_type": "code",
   "execution_count": 10,
   "metadata": {},
   "outputs": [
    {
     "data": {
      "text/plain": [
       "278154"
      ]
     },
     "execution_count": 10,
     "metadata": {},
     "output_type": "execute_result"
    }
   ],
   "source": [
    "# Remove rows where user is anonymous and is not logged in - only care about users we can identify\n",
    "\n",
    "events_df = events_df.filter(events_df[\"userId\"] != \"\")\n",
    "events_df.count()"
   ]
  },
  {
   "cell_type": "markdown",
   "metadata": {},
   "source": [
    "**---> Number of records is now lower. We have removed records where the user was anonymous.**"
   ]
  },
  {
   "cell_type": "markdown",
   "metadata": {},
   "source": [
    "# Exploratory Data Analysis\n",
    "When you're working with the full dataset, perform EDA by loading a small subset of the data and doing basic manipulations within Spark. In this workspace, you are already provided a small subset of data you can explore.\n",
    "\n",
    "### Define Churn\n",
    "\n",
    "Once you've done some preliminary analysis, create a column `Churn` to use as the label for your model. I suggest using the `Cancellation Confirmation` events to define your churn, which happen for both paid and free users. As a bonus task, you can also look into the `Downgrade` events."
   ]
  },
  {
   "cell_type": "code",
   "execution_count": 11,
   "metadata": {},
   "outputs": [
    {
     "name": "stdout",
     "output_type": "stream",
     "text": [
      "+----------------------+\n",
      "|count(DISTINCT userId)|\n",
      "+----------------------+\n",
      "|                   225|\n",
      "+----------------------+\n",
      "\n"
     ]
    }
   ],
   "source": [
    "# Count number of unique users\n",
    "events_df.agg(countDistinct('userId')).show()"
   ]
  },
  {
   "cell_type": "code",
   "execution_count": 12,
   "metadata": {},
   "outputs": [],
   "source": [
    "# Add churnEvent flag when Cancellation Confirmation has occurred\n",
    "\n",
    "flag_downgrade_event = udf(lambda x: 1 if x == \"Cancellation Confirmation\" else 0, IntegerType())\n",
    "events_df = events_df.withColumn(\"churnEvent\", flag_downgrade_event(\"page\"))"
   ]
  },
  {
   "cell_type": "code",
   "execution_count": 13,
   "metadata": {},
   "outputs": [
    {
     "name": "stdout",
     "output_type": "stream",
     "text": [
      "+----------+------+\n",
      "|churnEvent| count|\n",
      "+----------+------+\n",
      "|         1|    52|\n",
      "|         0|278102|\n",
      "+----------+------+\n",
      "\n"
     ]
    }
   ],
   "source": [
    "# Check churnEvent records now exist\n",
    "events_df.groupBy('churnEvent').count().show()"
   ]
  },
  {
   "cell_type": "code",
   "execution_count": 14,
   "metadata": {},
   "outputs": [
    {
     "name": "stdout",
     "output_type": "stream",
     "text": [
      "+------+---------+\n",
      "|userId|churnUser|\n",
      "+------+---------+\n",
      "|100005|        1|\n",
      "|300007|        1|\n",
      "|100011|        1|\n",
      "|100012|        1|\n",
      "|   101|        1|\n",
      "|100014|        1|\n",
      "|200001|        1|\n",
      "|   105|        1|\n",
      "|     3|        1|\n",
      "|100023|        1|\n",
      "+------+---------+\n",
      "only showing top 10 rows\n",
      "\n"
     ]
    }
   ],
   "source": [
    "# Get list of churned users\n",
    "churned_users_df = events_df.select(\"userId\", \"churnEvent\")\\\n",
    "    .where(events_df.churnEvent == 1).dropDuplicates().withColumnRenamed(\"churnEvent\", \"churnUser\")\n",
    "\n",
    "churned_users_df.show(10)"
   ]
  },
  {
   "cell_type": "code",
   "execution_count": 15,
   "metadata": {},
   "outputs": [
    {
     "name": "stdout",
     "output_type": "stream",
     "text": [
      "+------+--------------------+---------+---------+------+-------------+---------+---------+-----+--------------------+------+---------+-------------+---------+--------------------+------+-------------+--------------------+----------+---------+\n",
      "|userId|              artist|     auth|firstName|gender|itemInSession| lastName|   length|level|            location|method|     page| registration|sessionId|                song|status|           ts|           userAgent|churnEvent|churnUser|\n",
      "+------+--------------------+---------+---------+------+-------------+---------+---------+-----+--------------------+------+---------+-------------+---------+--------------------+------+-------------+--------------------+----------+---------+\n",
      "|100010|Sleeping With Sirens|Logged In| Darianna|     F|            0|Carpenter|202.97098| free|Bridgeport-Stamfo...|   PUT| NextSong|1538016340000|       31|Captain Tyin Knot...|   200|1539003534000|\"Mozilla/5.0 (iPh...|         0|        0|\n",
      "|100010|Francesca Battist...|Logged In| Darianna|     F|            1|Carpenter|196.54485| free|Bridgeport-Stamfo...|   PUT| NextSong|1538016340000|       31|Beautiful_ Beauti...|   200|1539003736000|\"Mozilla/5.0 (iPh...|         0|        0|\n",
      "|100010|              Brutha|Logged In| Darianna|     F|            2|Carpenter|263.13098| free|Bridgeport-Stamfo...|   PUT| NextSong|1538016340000|       31|          She's Gone|   200|1539003932000|\"Mozilla/5.0 (iPh...|         0|        0|\n",
      "|100010|                null|Logged In| Darianna|     F|            3|Carpenter|     null| free|Bridgeport-Stamfo...|   PUT|Thumbs Up|1538016340000|       31|                null|   307|1539003933000|\"Mozilla/5.0 (iPh...|         0|        0|\n",
      "|100010|         Josh Ritter|Logged In| Darianna|     F|            4|Carpenter|316.23791| free|Bridgeport-Stamfo...|   PUT| NextSong|1538016340000|       31|      Folk Bloodbath|   200|1539004195000|\"Mozilla/5.0 (iPh...|         0|        0|\n",
      "+------+--------------------+---------+---------+------+-------------+---------+---------+-----+--------------------+------+---------+-------------+---------+--------------------+------+-------------+--------------------+----------+---------+\n",
      "only showing top 5 rows\n",
      "\n"
     ]
    }
   ],
   "source": [
    "# Add column to events_df to indicate whether churned user\n",
    "events_df = events_df.join(churned_users_df, \"userId\", \"outer\")\n",
    "events_df = events_df.fillna(0, subset=\"churnUser\")\n",
    "events_df.show(5)"
   ]
  },
  {
   "cell_type": "markdown",
   "metadata": {},
   "source": [
    "### Explore Data\n",
    "Once you've defined churn, perform some exploratory data analysis to observe the behavior for users who stayed vs users who churned. You can start by exploring aggregates on these two groups of users, observing how much of a specific action they experienced per a certain time unit or number of songs played."
   ]
  },
  {
   "cell_type": "code",
   "execution_count": 16,
   "metadata": {},
   "outputs": [
    {
     "data": {
      "text/plain": [
       "<matplotlib.axes._subplots.AxesSubplot at 0x7fa7d1a054e0>"
      ]
     },
     "execution_count": 16,
     "metadata": {},
     "output_type": "execute_result"
    },
    {
     "data": {
      "image/png": "[encoded data removed]",
      "text/plain": [
       "<matplotlib.figure.Figure at 0x7fa80f362400>"
      ]
     },
     "metadata": {
      "needs_background": "light"
     },
     "output_type": "display_data"
    }
   ],
   "source": [
    "# Look at relative churn by gender\n",
    "user_gender_df = events_df.select([\"userId\", \"churnUser\", \"gender\"]).dropDuplicates()\n",
    "\n",
    "sns.countplot(data=user_gender_df.toPandas(), x=\"gender\", hue=\"churnUser\")"
   ]
  },
  {
   "cell_type": "markdown",
   "metadata": {},
   "source": [
    "**---> Churn profile appears similar for Male versus Female, with slightly higher churn percentage for Male.**"
   ]
  },
  {
   "cell_type": "code",
   "execution_count": 17,
   "metadata": {},
   "outputs": [
    {
     "data": {
      "text/plain": [
       "<matplotlib.axes._subplots.AxesSubplot at 0x7fa7d0ebcef0>"
      ]
     },
     "execution_count": 17,
     "metadata": {},
     "output_type": "execute_result"
    },
    {
     "data": {
      "image/png": "[encoded data removed]",
      "text/plain": [
       "<matplotlib.figure.Figure at 0x7fa7d0ea90b8>"
      ]
     },
     "metadata": {
      "needs_background": "light"
     },
     "output_type": "display_data"
    }
   ],
   "source": [
    "# Look at relative churn by level\n",
    "user_lvl_df = events_df.select([\"userId\", \"churnUser\", \"level\"]).dropDuplicates()\n",
    "\n",
    "sns.countplot(data=user_lvl_df.toPandas(), x=\"level\", hue=\"churnUser\")"
   ]
  },
  {
   "cell_type": "markdown",
   "metadata": {},
   "source": [
    "**---> Churn profile is similar for Paid and Free customers.**"
   ]
  },
  {
   "cell_type": "code",
   "execution_count": 18,
   "metadata": {},
   "outputs": [],
   "source": [
    "# Make events dataframe available to SQL\n",
    "\n",
    "events_df.createOrReplaceTempView(\"events\")"
   ]
  },
  {
   "cell_type": "code",
   "execution_count": 19,
   "metadata": {},
   "outputs": [
    {
     "name": "stdout",
     "output_type": "stream",
     "text": [
      "+------+-----+------------------+------------------+\n",
      "|userId|churn|       songsPerDay|     artistsPerDay|\n",
      "+------+-----+------------------+------------------+\n",
      "|    19|    0| 332.6014882487291| 313.5047520813379|\n",
      "|300007|    1|344.45801307377343|332.04511170174555|\n",
      "|100005|    1| 8.447798774292087|  8.22694128999687|\n",
      "|200007|    0|2.1324439037392953|2.0996370744509982|\n",
      "|200002|    0| 8.308275611535608|7.4510725722501885|\n",
      "|    50|    0| 8.301561387275395| 7.377227871465321|\n",
      "|    30|    0|20.853238480567068|16.689148406617353|\n",
      "|     8|    0|4.7918836924435135| 4.516939546155771|\n",
      "|100012|    1|15.563420045967504|13.639465249998011|\n",
      "|100011|    1| 356.8907247465265| 356.8907247465265|\n",
      "|     4|    0|29.669140342110115|22.132288126243342|\n",
      "|    65|    0|31.279244821192115| 23.44666310222185|\n",
      "|   101|    1|101.37766777191426| 78.23985429412039|\n",
      "|    13|    0| 19.68136139220561|15.613992086557653|\n",
      "|   153|    0|39.870895339858905| 33.28713317634872|\n",
      "|100014|    1| 6.012942846006174|  5.64925678677193|\n",
      "|    42|    0| 49.27751908121253| 34.49925601329063|\n",
      "|    62|    0|28.624108676780793|22.162548279279644|\n",
      "|    94|    0| 2.828228259849423| 2.749116979853635|\n",
      "|   114|    0| 23.05883889505649|18.258995624632664|\n",
      "+------+-----+------------------+------------------+\n",
      "only showing top 20 rows\n",
      "\n"
     ]
    }
   ],
   "source": [
    "# Calculate songs and artists listened to per day for all uaers\n",
    "# Timestamp \"ts\" is in milliseconds\n",
    "# Account age will be the max timestamp minus the min timestamp\n",
    "# Use factor 24*60*60*1000 to get account age in days\n",
    "\n",
    "songs_artists_df = spark.sql(\"\"\"\n",
    "    SELECT userId,\n",
    "        churnUser AS churn,\n",
    "        COUNT(DISTINCT song)*24*60*60*1000 / (MAX(ts) - MIN(ts)) AS songsPerDay,\n",
    "        COUNT(DISTINCT artist)*24*60*60*1000 / (MAX(ts) - MIN(ts)) AS artistsPerDay\n",
    "    FROM events\n",
    "    GROUP BY userId, churnUser\n",
    "    \"\"\")\n",
    "\n",
    "songs_artists_df.show()"
   ]
  },
  {
   "cell_type": "code",
   "execution_count": 20,
   "metadata": {},
   "outputs": [
    {
     "name": "stdout",
     "output_type": "stream",
     "text": [
      "+-----+----------------+------------------+\n",
      "|churn|avg(songsPerDay)|avg(artistsPerDay)|\n",
      "+-----+----------------+------------------+\n",
      "|    1|72.0604862381857| 67.20742535555526|\n",
      "|    0|37.7352567773026|33.228669029410725|\n",
      "+-----+----------------+------------------+\n",
      "\n"
     ]
    }
   ],
   "source": [
    "# Look at average songs and artists per day versus churn\n",
    "songs_artists_df.groupBy('churn').avg('songsPerDay', 'artistsPerDay').show()"
   ]
  },
  {
   "cell_type": "markdown",
   "metadata": {},
   "source": [
    "**---> Looks like churned users listen to roughly twice as many songs and artists per day compared with unchurned users.**"
   ]
  },
  {
   "cell_type": "code",
   "execution_count": 21,
   "metadata": {},
   "outputs": [
    {
     "name": "stdout",
     "output_type": "stream",
     "text": [
      "+------+-----+------------------+\n",
      "|userId|churn|   sessionDuration|\n",
      "+------+-----+------------------+\n",
      "|    19|    0| 904.8666666666667|\n",
      "|200007|    0| 90.11111111111113|\n",
      "|100005|    1|120.18666666666665|\n",
      "|300007|    1|464.03333333333336|\n",
      "|200002|    0|266.40000000000003|\n",
      "|    50|    0|           264.275|\n",
      "|    30|    0|183.59427083333333|\n",
      "|100012|    1| 271.4380952380953|\n",
      "|     8|    0|146.88095238095238|\n",
      "|100011|    1| 44.38333333333333|\n",
      "|     4|    0| 379.3386363636364|\n",
      "|    65|    0| 384.1746376811595|\n",
      "|    13|    0|154.60757575757577|\n",
      "|   101|    1|            817.58|\n",
      "|   153|    0|437.12222222222226|\n",
      "|    42|    0|329.56276595744686|\n",
      "|100014|    1| 184.8138888888889|\n",
      "|    94|    0|100.79722222222222|\n",
      "|    62|    0| 816.8979166666667|\n",
      "|   114|    0| 318.0705882352941|\n",
      "+------+-----+------------------+\n",
      "only showing top 20 rows\n",
      "\n"
     ]
    }
   ],
   "source": [
    "# Calculate average session duration in minutes for each user\n",
    "# Timestamp \"ts\" is in milliseconds\n",
    "\n",
    "user_session_duration_df = spark.sql(\"\"\"\n",
    "    SELECT ssn.userId,\n",
    "        churn,\n",
    "        AVG(ssn.sessionDuration) AS sessionDuration\n",
    "    FROM (\n",
    "        SELECT userId,\n",
    "            churnUser AS churn,\n",
    "            sessionId,\n",
    "            (MAX(ts) - MIN(ts))/(60*1000) AS sessionDuration\n",
    "        FROM events\n",
    "        GROUP BY userId, churnUser, sessionId\n",
    "    ) AS ssn\n",
    "    GROUP BY ssn.userId, churn\n",
    "    \"\"\")\n",
    "\n",
    "user_session_duration_df.show()"
   ]
  },
  {
   "cell_type": "code",
   "execution_count": 22,
   "metadata": {},
   "outputs": [
    {
     "name": "stdout",
     "output_type": "stream",
     "text": [
      "+-----+--------------------+\n",
      "|churn|avg(sessionDuration)|\n",
      "+-----+--------------------+\n",
      "|    1|  259.57453028914773|\n",
      "|    0|   296.7599470605086|\n",
      "+-----+--------------------+\n",
      "\n"
     ]
    }
   ],
   "source": [
    "# Look at average session duration versus churn\n",
    "user_session_duration_df.groupBy('churn').avg('sessionDuration').show()"
   ]
  },
  {
   "cell_type": "markdown",
   "metadata": {},
   "source": [
    "**---> Churned users have slightly lower session durations compared with unchurned users.**"
   ]
  },
  {
   "cell_type": "code",
   "execution_count": 23,
   "metadata": {},
   "outputs": [
    {
     "name": "stdout",
     "output_type": "stream",
     "text": [
      "+------+-----+---------------+---------+\n",
      "|userId|churn|           page|pageCount|\n",
      "+------+-----+---------------+---------+\n",
      "|    10|    0|     Add Friend|       12|\n",
      "|    10|    0|Add to Playlist|        9|\n",
      "|    10|    0|           Help|        1|\n",
      "|    10|    0|         Logout|       11|\n",
      "|    10|    0|       NextSong|      673|\n",
      "|    10|    0|    Roll Advert|        1|\n",
      "|    10|    0|       Settings|        7|\n",
      "|    10|    0|    Thumbs Down|        4|\n",
      "|    10|    0|      Thumbs Up|       37|\n",
      "|   100|    0|     Add Friend|       49|\n",
      "|   100|    0|Add to Playlist|       61|\n",
      "|   100|    0|           Help|       18|\n",
      "|   100|    0|         Logout|       35|\n",
      "|   100|    0|       NextSong|     2682|\n",
      "|   100|    0|    Roll Advert|       25|\n",
      "|   100|    0|       Settings|       11|\n",
      "|   100|    0|    Thumbs Down|       27|\n",
      "|   100|    0|      Thumbs Up|      148|\n",
      "|100001|    1|     Add Friend|        2|\n",
      "|100001|    1|Add to Playlist|        3|\n",
      "+------+-----+---------------+---------+\n",
      "only showing top 20 rows\n",
      "\n"
     ]
    }
   ],
   "source": [
    "# Get page counts by user for a subset of page types that may be of interest\n",
    "# We're only selecting page types here that we believe will be relevant\n",
    "\n",
    "page_counts_df = spark.sql(\n",
    "    \"SELECT userId,\\\n",
    "        churnUser AS churn,\\\n",
    "        page,\\\n",
    "        COUNT(*) AS pageCount\\\n",
    "    FROM events\\\n",
    "    WHERE page IN (\\\n",
    "        'Add Friend',\\\n",
    "        'Add to Playlist',\\\n",
    "        'Help',\\\n",
    "        'Login',\\\n",
    "        'Logout',\\\n",
    "        'NextSong',\\\n",
    "        'Roll Advert',\\\n",
    "        'Settings',\\\n",
    "        'Thumbs Down',\\\n",
    "        'Thumbs Up')\\\n",
    "    GROUP BY userId, churnUser, page\\\n",
    "    ORDER BY 1,3\")\n",
    "\n",
    "page_counts_df.show()"
   ]
  },
  {
   "cell_type": "code",
   "execution_count": 24,
   "metadata": {},
   "outputs": [
    {
     "name": "stdout",
     "output_type": "stream",
     "text": [
      "+------+-------------------+\n",
      "|userId|         daysActive|\n",
      "+------+-------------------+\n",
      "|100010|  44.21780092592593|\n",
      "|200002| 45.496805555555554|\n",
      "|   125|0.02053240740740741|\n",
      "|   124| 59.996944444444445|\n",
      "|    51| 15.779398148148148|\n",
      "|     7| 50.784050925925925|\n",
      "|    15|  54.77318287037037|\n",
      "|    54|  42.79719907407407|\n",
      "|   155|  25.82783564814815|\n",
      "|100014| 41.244363425925926|\n",
      "|   132|  50.49740740740741|\n",
      "|   154| 24.986458333333335|\n",
      "|   101| 15.861481481481482|\n",
      "|    11| 53.241585648148146|\n",
      "|   138|  56.07674768518518|\n",
      "|300017|  59.11390046296296|\n",
      "|100021| 45.457256944444445|\n",
      "|    29|  43.32092592592593|\n",
      "|    69|  50.98648148148148|\n",
      "|   112|  56.87869212962963|\n",
      "+------+-------------------+\n",
      "only showing top 20 rows\n",
      "\n"
     ]
    }
   ],
   "source": [
    "# Calculate days active for all users\n",
    "# Timestamp \"ts\" is in milliseconds\n",
    "\n",
    "days_active_df = spark.sql(\n",
    "    \"SELECT userId,\\\n",
    "        (MAX(ts) - MIN(ts))/(24*60*60*1000) AS daysActive\\\n",
    "    FROM events\\\n",
    "    GROUP BY userId\")\n",
    "\n",
    "days_active_df.show()"
   ]
  },
  {
   "cell_type": "code",
   "execution_count": 25,
   "metadata": {},
   "outputs": [
    {
     "name": "stdout",
     "output_type": "stream",
     "text": [
      "+------+-----+---------------+---------+-------------------+-------------------+\n",
      "|userId|churn|           page|pageCount|         daysActive|        pagesPerDay|\n",
      "+------+-----+---------------+---------+-------------------+-------------------+\n",
      "|100010|    0|     Add Friend|        4|  44.21780092592593|0.09046130554300602|\n",
      "|100010|    0|Add to Playlist|        7|  44.21780092592593|0.15830728470026054|\n",
      "|100010|    0|           Help|        2|  44.21780092592593|0.04523065277150301|\n",
      "|100010|    0|         Logout|        5|  44.21780092592593|0.11307663192875753|\n",
      "|100010|    0|       NextSong|      275|  44.21780092592593|  6.219214756081664|\n",
      "|100010|    0|    Roll Advert|       52|  44.21780092592593| 1.1759969720590784|\n",
      "|100010|    0|    Thumbs Down|        5|  44.21780092592593|0.11307663192875753|\n",
      "|100010|    0|      Thumbs Up|       17|  44.21780092592593| 0.3844605485577756|\n",
      "|200002|    0|     Add Friend|        4| 45.496805555555554|0.08791826043953026|\n",
      "|200002|    0|Add to Playlist|        8| 45.496805555555554|0.17583652087906051|\n",
      "|200002|    0|           Help|        2| 45.496805555555554|0.04395913021976513|\n",
      "|200002|    0|         Logout|        5| 45.496805555555554|0.10989782554941281|\n",
      "|200002|    0|       NextSong|      387| 45.496805555555554|  8.506091697524552|\n",
      "|200002|    0|    Roll Advert|        7| 45.496805555555554|0.15385695576917793|\n",
      "|200002|    0|       Settings|        3| 45.496805555555554|0.06593869532964769|\n",
      "|200002|    0|    Thumbs Down|        6| 45.496805555555554|0.13187739065929538|\n",
      "|200002|    0|      Thumbs Up|       21| 45.496805555555554| 0.4615708673075338|\n",
      "|   125|    1|       NextSong|        8|0.02053240740740741|  389.6279594137542|\n",
      "|   125|    1|    Roll Advert|        1|0.02053240740740741|  48.70349492671927|\n",
      "|   124|    0|     Add Friend|       74| 59.996944444444445| 1.2333961451740598|\n",
      "+------+-----+---------------+---------+-------------------+-------------------+\n",
      "only showing top 20 rows\n",
      "\n"
     ]
    }
   ],
   "source": [
    "# Divide page counts by days active to get pages per day of each type\n",
    "\n",
    "page_counts_df = page_counts_df.join(days_active_df, \"userId\", \"inner\")\n",
    "page_counts_df = page_counts_df.withColumn('pagesPerDay', page_counts_df.pageCount / page_counts_df.daysActive)\n",
    "page_counts_df.show()"
   ]
  },
  {
   "cell_type": "code",
   "execution_count": 26,
   "metadata": {},
   "outputs": [
    {
     "name": "stdout",
     "output_type": "stream",
     "text": [
      "+---------------+-------------------+------------------+\n",
      "|           page|           no_churn|             churn|\n",
      "+---------------+-------------------+------------------+\n",
      "|    Thumbs Down|0.38293079179123285|1.9586845420537815|\n",
      "|    Roll Advert|  2.322173563830428| 7.421197238752865|\n",
      "|         Logout| 0.6232522709436888|0.9897750320170381|\n",
      "|       Settings| 1.6359780188628494| 2.646798254413769|\n",
      "|Add to Playlist| 1.1067587873838935| 2.934686315424889|\n",
      "|     Add Friend| 0.6927238019914513|2.3511324917873107|\n",
      "|       NextSong|  40.20637559224469| 74.53310132166251|\n",
      "|      Thumbs Up| 1.9609748660000539| 4.880878647903342|\n",
      "|           Help|0.26372036479048094|0.3270910329069824|\n",
      "+---------------+-------------------+------------------+\n",
      "\n"
     ]
    }
   ],
   "source": [
    "# Pivot and aggregate across all users to get page rates for churned and unchurned users\n",
    "\n",
    "page_rate_churn_pivot = page_counts_df.groupBy('page').pivot('churn').avg('pagesPerDay')\n",
    "\n",
    "page_rate_churn_pivot = page_rate_churn_pivot.withColumnRenamed('0', 'no_churn')\n",
    "page_rate_churn_pivot = page_rate_churn_pivot.withColumnRenamed('1', 'churn')\n",
    "\n",
    "page_rate_churn_pivot.show()"
   ]
  },
  {
   "cell_type": "code",
   "execution_count": 27,
   "metadata": {},
   "outputs": [
    {
     "data": {
      "text/plain": [
       "<matplotlib.axes._subplots.AxesSubplot at 0x7fa7d19f0400>"
      ]
     },
     "execution_count": 27,
     "metadata": {},
     "output_type": "execute_result"
    },
    {
     "data": {
      "image/png": "[encoded data removed]",
      "text/plain": [
       "<matplotlib.figure.Figure at 0x7fa7d0fc2b70>"
      ]
     },
     "metadata": {
      "needs_background": "light"
     },
     "output_type": "display_data"
    }
   ],
   "source": [
    "page_rate_churn_pivot.toPandas().plot(kind=\"barh\", x=\"page\")"
   ]
  },
  {
   "cell_type": "markdown",
   "metadata": {},
   "source": [
    "**---> Users who churn play more songs per day and also engage more across other page features.**"
   ]
  },
  {
   "cell_type": "markdown",
   "metadata": {},
   "source": [
    "# Feature Engineering\n",
    "Once you've familiarized yourself with the data, build out the features you find promising to train your model on. To work with the full dataset, you can follow the following steps.\n",
    "- Write a script to extract the necessary features from the smaller subset of data\n",
    "- Ensure that your script is scalable, using the best practices discussed in Lesson 3\n",
    "- Try your script on the full data set, debugging your script if necessary\n",
    "\n",
    "If you are working in the classroom workspace, you can just extract features based on the small subset of data contained here. Be sure to transfer over this work to the larger dataset when you work on your Spark cluster."
   ]
  },
  {
   "cell_type": "markdown",
   "metadata": {},
   "source": [
    "<b>We plan to use the following input features:\n",
    "- gender\n",
    "- level\n",
    "- sessionDuration\n",
    "- songsPerDay\n",
    "- artistsPerDay\n",
    "- pgRateAddFriend\n",
    "- pgRateAddtoPlaylist\n",
    "- pgRateHelp\n",
    "- pgRateLogout\n",
    "- pgRateNextSong\n",
    "- pgRateRollAdvert\n",
    "- pgRateSettings\n",
    "- pgRateThumbsDown\n",
    "- pgRateThumbsUp</b>"
   ]
  },
  {
   "cell_type": "code",
   "execution_count": 28,
   "metadata": {},
   "outputs": [
    {
     "name": "stdout",
     "output_type": "stream",
     "text": [
      "+------+-----+-------------------+-------------------+-------------------+-------------------+------------------+-------------------+-------------------+-------------------+------------------+\n",
      "|userId|churn|         Add Friend|    Add to Playlist|               Help|             Logout|          NextSong|        Roll Advert|           Settings|        Thumbs Down|         Thumbs Up|\n",
      "+------+-----+-------------------+-------------------+-------------------+-------------------+------------------+-------------------+-------------------+-------------------+------------------+\n",
      "|100010|    0|0.09046130554300602|0.15830728470026054|0.04523065277150301|0.11307663192875753| 6.219214756081664| 1.1759969720590784|                0.0|0.11307663192875753|0.3844605485577756|\n",
      "|200002|    0|0.08791826043953026|0.17583652087906051|0.04395913021976513|0.10989782554941281| 8.506091697524552|0.15385695576917793|0.06593869532964769|0.13187739065929538|0.4615708673075338|\n",
      "|   125|    1|                0.0|                0.0|                0.0|                0.0| 389.6279594137542|  48.70349492671927|                0.0|                0.0|               0.0|\n",
      "|   124|    0| 1.2333961451740598| 1.9667668260883655|0.38335285593247803| 0.9833834130441828| 67.98679562385121|0.06667006190130052|0.33335030950650263| 0.6833681344883304| 2.850145146280598|\n",
      "|    51|    1| 1.7744656505347163| 3.2954362081359014| 0.7604852788005927| 1.5209705576011854|133.78203529567094|                0.0| 0.7604852788005927|  1.330849237901037| 6.337377323338272|\n",
      "+------+-----+-------------------+-------------------+-------------------+-------------------+------------------+-------------------+-------------------+-------------------+------------------+\n",
      "only showing top 5 rows\n",
      "\n"
     ]
    }
   ],
   "source": [
    "user_page_count_pivot = page_counts_df.groupBy('userId', 'churn').pivot('page',\\\n",
    "        ['Add Friend',\\\n",
    "        'Add to Playlist',\\\n",
    "        'Help',\\\n",
    "        'Logout',\\\n",
    "        'NextSong',\\\n",
    "        'Roll Advert',\\\n",
    "        'Settings',\\\n",
    "        'Thumbs Down',\\\n",
    "        'Thumbs Up']\\\n",
    ").sum('pagesPerDay')\n",
    "\n",
    "user_page_count_pivot = user_page_count_pivot.fillna(0)\n",
    "user_page_count_pivot.show(5)"
   ]
  },
  {
   "cell_type": "code",
   "execution_count": 29,
   "metadata": {},
   "outputs": [
    {
     "name": "stdout",
     "output_type": "stream",
     "text": [
      "+------+-----+-------------------+-------------------+-------------------+-------------------+------------------+-------------------+-------------------+-------------------+------------------+\n",
      "|userId|churn|    pgRateAddFriend|pgRateAddtoPlaylist|         pgRateHelp|       pgRateLogout|    pgRateNextSong|  pgRateRoll Advert|     pgRateSettings|   pgRateThumbsDown|    pgRateThumbsUp|\n",
      "+------+-----+-------------------+-------------------+-------------------+-------------------+------------------+-------------------+-------------------+-------------------+------------------+\n",
      "|100010|    0|0.09046130554300602|0.15830728470026054|0.04523065277150301|0.11307663192875753| 6.219214756081664| 1.1759969720590784|                0.0|0.11307663192875753|0.3844605485577756|\n",
      "|200002|    0|0.08791826043953026|0.17583652087906051|0.04395913021976513|0.10989782554941281| 8.506091697524552|0.15385695576917793|0.06593869532964769|0.13187739065929538|0.4615708673075338|\n",
      "|   125|    1|                0.0|                0.0|                0.0|                0.0| 389.6279594137542|  48.70349492671927|                0.0|                0.0|               0.0|\n",
      "|   124|    0| 1.2333961451740598| 1.9667668260883655|0.38335285593247803| 0.9833834130441828| 67.98679562385121|0.06667006190130052|0.33335030950650263| 0.6833681344883304| 2.850145146280598|\n",
      "|    51|    1| 1.7744656505347163| 3.2954362081359014| 0.7604852788005927| 1.5209705576011854|133.78203529567094|                0.0| 0.7604852788005927|  1.330849237901037| 6.337377323338272|\n",
      "+------+-----+-------------------+-------------------+-------------------+-------------------+------------------+-------------------+-------------------+-------------------+------------------+\n",
      "only showing top 5 rows\n",
      "\n"
     ]
    }
   ],
   "source": [
    "user_page_rate_df = user_page_count_pivot.toDF(\n",
    "    'userId',\n",
    "    'churn',\n",
    "    'pgRateAddFriend',\n",
    "    'pgRateAddtoPlaylist',\n",
    "    'pgRateHelp',\n",
    "    'pgRateLogout',\n",
    "    'pgRateNextSong',\n",
    "    'pgRateRoll Advert',\n",
    "    'pgRateSettings',\n",
    "    'pgRateThumbsDown',\n",
    "    'pgRateThumbsUp')\n",
    "\n",
    "user_page_rate_df.show(5)"
   ]
  },
  {
   "cell_type": "code",
   "execution_count": 30,
   "metadata": {},
   "outputs": [
    {
     "name": "stdout",
     "output_type": "stream",
     "text": [
      "+------+---------+-----+---------+\n",
      "|userId|churnUser|level|levelFlag|\n",
      "+------+---------+-----+---------+\n",
      "|300024|        0| paid|        1|\n",
      "|   156|        0| free|        0|\n",
      "|200018|        1| free|        0|\n",
      "|300022|        0| paid|        1|\n",
      "|    70|        1| paid|        1|\n",
      "|   117|        0| free|        0|\n",
      "|   105|        1| free|        0|\n",
      "|     3|        1| paid|        1|\n",
      "|   115|        0| paid|        1|\n",
      "|    36|        0| paid|        1|\n",
      "+------+---------+-----+---------+\n",
      "only showing top 10 rows\n",
      "\n"
     ]
    }
   ],
   "source": [
    "# Encode free/paid level value as binary flag\n",
    "\n",
    "levelFlag = udf(lambda x: 1 if x == \"paid\" else 0, IntegerType())\n",
    "all_user_levelFlag_df = user_lvl_df.withColumn(\"levelFlag\", levelFlag(\"level\"))\n",
    "all_user_levelFlag_df.show(10)"
   ]
  },
  {
   "cell_type": "code",
   "execution_count": 31,
   "metadata": {},
   "outputs": [
    {
     "name": "stdout",
     "output_type": "stream",
     "text": [
      "+------+---------+------+----------+\n",
      "|userId|churnUser|gender|genderFlag|\n",
      "+------+---------+------+----------+\n",
      "|    69|        0|     F|         1|\n",
      "|    52|        0|     F|         1|\n",
      "|    84|        0|     F|         1|\n",
      "|200005|        0|     M|         0|\n",
      "|    22|        0|     F|         1|\n",
      "|100006|        1|     F|         1|\n",
      "|    92|        0|     F|         1|\n",
      "|    42|        0|     F|         1|\n",
      "|   131|        0|     M|         0|\n",
      "|   148|        0|     M|         0|\n",
      "+------+---------+------+----------+\n",
      "only showing top 10 rows\n",
      "\n"
     ]
    }
   ],
   "source": [
    "# Encode M/F gender value as binary flag\n",
    "\n",
    "genderFlag = udf(lambda x: 1 if x == \"F\" else 0, IntegerType())\n",
    "user_genderFlag_df = user_gender_df.withColumn(\"genderFlag\", genderFlag(\"gender\"))\n",
    "user_genderFlag_df.show(10)"
   ]
  },
  {
   "cell_type": "code",
   "execution_count": 32,
   "metadata": {},
   "outputs": [
    {
     "name": "stdout",
     "output_type": "stream",
     "text": [
      "+------+-----+-------------------+-------------------+-------------------+-------------------+-----------------+-------------------+-------------------+-------------------+------------------+------------------+------------------+------------------+----------+---------+\n",
      "|userId|churn|    pgRateAddFriend|pgRateAddtoPlaylist|         pgRateHelp|       pgRateLogout|   pgRateNextSong|  pgRateRoll Advert|     pgRateSettings|   pgRateThumbsDown|    pgRateThumbsUp|       songsPerDay|     artistsPerDay|   sessionDuration|genderFlag|levelFlag|\n",
      "+------+-----+-------------------+-------------------+-------------------+-------------------+-----------------+-------------------+-------------------+-------------------+------------------+------------------+------------------+------------------+----------+---------+\n",
      "|100010|    0|0.09046130554300602|0.15830728470026054|0.04523065277150301|0.11307663192875753|6.219214756081664| 1.1759969720590784|                0.0|0.11307663192875753|0.3844605485577756| 6.083522797767156|  5.69906224920938|154.48333333333332|         1|        0|\n",
      "|200002|    0|0.08791826043953026|0.17583652087906051|0.04395913021976513|0.10989782554941281|8.506091697524552|0.15385695576917793|0.06593869532964769|0.13187739065929538|0.4615708673075338| 8.308275611535608|7.4510725722501885|266.40000000000003|         0|        1|\n",
      "|200002|    0|0.08791826043953026|0.17583652087906051|0.04395913021976513|0.10989782554941281|8.506091697524552|0.15385695576917793|0.06593869532964769|0.13187739065929538|0.4615708673075338| 8.308275611535608|7.4510725722501885|266.40000000000003|         0|        0|\n",
      "|   125|    1|                0.0|                0.0|                0.0|                0.0|389.6279594137542|  48.70349492671927|                0.0|                0.0|               0.0|389.62795941375424|389.62795941375424|29.566666666666666|         0|        0|\n",
      "|   124|    0| 1.2333961451740598| 1.9667668260883655|0.38335285593247803| 0.9833834130441828|67.98679562385121|0.06667006190130052|0.33335030950650263| 0.6833681344883304| 2.850145146280598|55.652834172110616| 37.20189454092569| 578.9942528735631|         1|        1|\n",
      "+------+-----+-------------------+-------------------+-------------------+-------------------+-----------------+-------------------+-------------------+-------------------+------------------+------------------+------------------+------------------+----------+---------+\n",
      "only showing top 5 rows\n",
      "\n"
     ]
    }
   ],
   "source": [
    "users_df = user_page_rate_df.join(songs_artists_df.drop('churn'), \"userId\", \"inner\")\\\n",
    "    .join(user_session_duration_df.drop('churn'), \"userId\", \"inner\")\\\n",
    "    .join(user_genderFlag_df.drop('churnUser').drop('gender'), \"userId\", \"inner\")\\\n",
    "    .join(all_user_levelFlag_df.drop('churnUser').drop('level'), \"userId\", \"inner\")\n",
    "\n",
    "users_df.show(5)"
   ]
  },
  {
   "cell_type": "code",
   "execution_count": 33,
   "metadata": {},
   "outputs": [],
   "source": [
    "# Option to cache users_df to disk instead of rerunning the entire script\n",
    "users_df.rdd.saveAsPickleFile('users.pcl')"
   ]
  },
  {
   "cell_type": "markdown",
   "metadata": {},
   "source": [
    "# Modeling\n",
    "Split the full dataset into train, test, and validation sets. Test out several of the machine learning methods you learned. Evaluate the accuracy of the various models, tuning parameters as necessary. Determine your winning model based on test accuracy and report results on the validation set. Since the churned users are a fairly small subset, I suggest using F1 score as the metric to optimize."
   ]
  },
  {
   "cell_type": "code",
   "execution_count": 34,
   "metadata": {},
   "outputs": [],
   "source": [
    "# Option to reload pickle cache if you want to restart from here\n",
    "pickleRdd = spark.sparkContext.pickleFile('users.pcl').collect()\n",
    "users_df = spark.createDataFrame(pickleRdd)"
   ]
  },
  {
   "cell_type": "code",
   "execution_count": 35,
   "metadata": {},
   "outputs": [],
   "source": [
    "users_df = users_df.drop(\"userId\")\n",
    "feature_cols = users_df.columns\n",
    "feature_cols.remove('churn')\n",
    "\n",
    "assembler = VectorAssembler().setInputCols(feature_cols).setOutputCol(\"features\")\n",
    "users_df = assembler.transform(users_df)\n",
    "\n",
    "train_df, test_df = users_df.randomSplit([0.85, 0.15], seed=47)"
   ]
  },
  {
   "cell_type": "code",
   "execution_count": 53,
   "metadata": {},
   "outputs": [],
   "source": [
    "def evaluate_model(model_type, model, data):\n",
    "\n",
    "    evaluator = MulticlassClassificationEvaluator(predictionCol=\"prediction\", labelCol=\"churn\", metricName=\"f1\")\n",
    "    evaluator.setMetricName(\"f1\")\n",
    "    \n",
    "    predictions = model.transform(data)\n",
    "\n",
    "    results = {}\n",
    "    results[\"model\"] = model_type\n",
    "    results[\"f1\"] = evaluator.evaluate(predictions, {evaluator.metricName:\"f1\"})\n",
    "    results[\"precision\"] = evaluator.evaluate(predictions, {evaluator.metricName:\"weightedPrecision\"})\n",
    "    results[\"recall\"] = evaluator.evaluate(predictions, {evaluator.metricName:\"weightedRecall\"})\n",
    "    results[\"accuracy\"] = evaluator.evaluate(predictions, {evaluator.metricName:\"accuracy\"})\n",
    "\n",
    "    return results\n"
   ]
  },
  {
   "cell_type": "code",
   "execution_count": 54,
   "metadata": {},
   "outputs": [],
   "source": [
    "def execute_model(model_type, train, test):\n",
    "    \n",
    "    pipeline_stages = []\n",
    "    \n",
    "    scaler = MinMaxScaler(inputCol=\"features\", outputCol=\"scaledFeatures\")\n",
    "    pipeline_stages += [scaler]\n",
    " \n",
    "    evaltr = MulticlassClassificationEvaluator(predictionCol=\"prediction\", labelCol=\"churn\", metricName=\"f1\")\n",
    "\n",
    "    if model_type == \"LogisticRegression\":\n",
    "        classifier = LogisticRegression(featuresCol = \"features\", labelCol = \"churn\")\n",
    "\n",
    "        param_grid = ParamGridBuilder() \\\n",
    "        .addGrid(classifier.maxIter, [50, 100, 150]) \\\n",
    "        .addGrid(classifier.threshold, [0.4, 0.5, 0.6]) \\\n",
    "        .build()\n",
    "        \n",
    "    elif model_type == \"RandomForest\":\n",
    "        classifier = RandomForestClassifier(featuresCol = \"features\", labelCol = \"churn\",\n",
    "            featureSubsetStrategy=\"auto\", impurity='gini')\n",
    "\n",
    "        param_grid = ParamGridBuilder() \\\n",
    "        .addGrid(classifier.numTrees, [3, 4, 5]) \\\n",
    "        .addGrid(classifier.maxDepth, [5, 10, 20]) \\\n",
    "        .build()\n",
    "    \n",
    "    elif model_type == \"GradientBoostedTree\":\n",
    "        classifier = GBTClassifier(featuresCol = \"features\", labelCol = \"churn\")\n",
    "\n",
    "        param_grid = ParamGridBuilder() \\\n",
    "        .addGrid(classifier.maxIter, [10, 20, 30]) \\\n",
    "        .addGrid(classifier.maxDepth, [5, 10, 20]) \\\n",
    "        .build()\n",
    " \n",
    "    cv = CrossValidator(estimator = classifier,\n",
    "        estimatorParamMaps = param_grid,\n",
    "        evaluator = evaltr,\n",
    "        numFolds=10)\n",
    "\n",
    "    pipeline_stages.append(classifier)    \n",
    "    pipeline = Pipeline(stages=pipeline_stages)\n",
    "    model = pipeline.fit(train)\n",
    "    \n",
    "    return evaluate_model(model_type, model, test)                                               "
   ]
  },
  {
   "cell_type": "code",
   "execution_count": 55,
   "metadata": {},
   "outputs": [
    {
     "data": {
      "text/plain": [
       "{'model': 'LogisticRegression',\n",
       " 'f1': 0.748917748917749,\n",
       " 'precision': 0.7952380952380953,\n",
       " 'recall': 0.7857142857142857,\n",
       " 'accuracy': 0.7857142857142857}"
      ]
     },
     "execution_count": 55,
     "metadata": {},
     "output_type": "execute_result"
    }
   ],
   "source": [
    "lr_results = execute_model('LogisticRegression', train_df, test_df)\n",
    "lr_results"
   ]
  },
  {
   "cell_type": "code",
   "execution_count": 56,
   "metadata": {},
   "outputs": [
    {
     "data": {
      "text/plain": [
       "{'model': 'RandomForest',\n",
       " 'f1': 0.8671023965141612,\n",
       " 'precision': 0.8787878787878789,\n",
       " 'recall': 0.875,\n",
       " 'accuracy': 0.875}"
      ]
     },
     "execution_count": 56,
     "metadata": {},
     "output_type": "execute_result"
    }
   ],
   "source": [
    "rf_results = execute_model('RandomForest', train_df, test_df)\n",
    "rf_results"
   ]
  },
  {
   "cell_type": "code",
   "execution_count": 57,
   "metadata": {
    "scrolled": true
   },
   "outputs": [
    {
     "data": {
      "text/plain": [
       "{'model': 'GradientBoostedTree',\n",
       " 'f1': 0.870793518903199,\n",
       " 'precision': 0.8729874776386405,\n",
       " 'recall': 0.875,\n",
       " 'accuracy': 0.875}"
      ]
     },
     "execution_count": 57,
     "metadata": {},
     "output_type": "execute_result"
    }
   ],
   "source": [
    "gb_results = execute_model('GradientBoostedTree', train_df, test_df)\n",
    "gb_results"
   ]
  },
  {
   "cell_type": "code",
   "execution_count": 77,
   "metadata": {},
   "outputs": [
    {
     "name": "stdout",
     "output_type": "stream",
     "text": [
      "+-------------------+------------------+------------------+------------------+------------------+\n",
      "|              model|                f1|         precision|            recall|          accuracy|\n",
      "+-------------------+------------------+------------------+------------------+------------------+\n",
      "| LogisticRegression| 0.748917748917749|0.7952380952380953|0.7857142857142857|0.7857142857142857|\n",
      "|       RandomForest|0.8671023965141612|0.8787878787878789|             0.875|             0.875|\n",
      "|GradientBoostedTree| 0.870793518903199|0.8729874776386405|             0.875|             0.875|\n",
      "+-------------------+------------------+------------------+------------------+------------------+\n",
      "\n"
     ]
    }
   ],
   "source": [
    "results_df = spark.read.json(spark.sparkContext.parallelize([lr_results, rf_results, gb_results])) \\\n",
    "    .select(\"model\", \"f1\", \"precision\", \"recall\", \"accuracy\") \\\n",
    "    .show()"
   ]
  },
  {
   "cell_type": "markdown",
   "metadata": {},
   "source": [
    "**---> As F1 is our model evaluation metric, we conclude that GradientBoostedTree is the optimal model here to predict churn because it has the highest F1 score.**"
   ]
  },
  {
   "cell_type": "markdown",
   "metadata": {},
   "source": [
    "# Final Steps\n",
    "Clean up your code, adding comments and renaming variables to make the code easier to read and maintain. Refer to the Spark Project Overview page and Data Scientist Capstone Project Rubric to make sure you are including all components of the capstone project and meet all expectations. Remember, this includes thorough documentation in a README file in a Github repository, as well as a web app or blog post."
   ]
  },
  {
   "cell_type": "code",
   "execution_count": null,
   "metadata": {},
   "outputs": [],
   "source": []
  }
 ],
 "metadata": {
  "kernelspec": {
   "display_name": "Python 3",
   "language": "python",
   "name": "python3"
  },
  "language_info": {
   "codemirror_mode": {
    "name": "ipython",
    "version": 3
   },
   "file_extension": ".py",
   "mimetype": "text/x-python",
   "name": "python",
   "nbconvert_exporter": "python",
   "pygments_lexer": "ipython3",
   "version": "3.6.3"
  }
 },
 "nbformat": 4,
 "nbformat_minor": 2
}
